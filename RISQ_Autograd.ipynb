{
 "cells": [
  {
   "cell_type": "markdown",
   "metadata": {},
   "source": [
    "# RISQ autograd\n",
    "\n",
    "In this Notebook, we run Matteo's calculation in Python. We use the package autograd to build a computational graph that allows us to extract the Jacobian matrix of the computation, in this case $U(\\theta_t, \\theta_b, \\theta_s)$ with other parameters fixed. $U$ is the $2\\times 2$ unitary matrix representing the quantum gate.\n",
    "\n",
    "Imports : "
   ]
  },
  {
   "cell_type": "markdown",
   "metadata": {},
   "source": [
    "This matches the script output. What if we sweep other angles : "
   ]
  },
  {
   "cell_type": "code",
   "execution_count": 1,
   "metadata": {},
   "outputs": [],
   "source": [
    "import matplotlib.pyplot as plt\n",
    "import autograd.numpy as np # Hack to get derivatives"
   ]
  },
  {
   "cell_type": "code",
   "execution_count": 2,
   "metadata": {},
   "outputs": [],
   "source": [
    "%matplotlib inline"
   ]
  },
  {
   "cell_type": "markdown",
   "metadata": {},
   "source": [
    "### From RISQ_MODEL.py\n",
    "\n",
    "To reduce risk of mistake in tracer, I changed all non-np call (e.g. A.dot(B) ) to autograd calls (np.dot(A,B) ). Similarly, I made sure there was no in-place assignment. See https://github.com/HIPS/autograd/blob/master/docs/tutorial.md#supported-and-unsupported-parts-of-numpyscipy.\n",
    "\n",
    "We focus on the RISQ gate for a specific set of parameters, and loop outside that function to see the behaviour across various values."
   ]
  },
  {
   "cell_type": "code",
   "execution_count": 3,
   "metadata": {},
   "outputs": [],
   "source": [
    "# Adapted Matteo Code\n",
    "def generate_S_DB(theta_b, theta_t, eta_sqrd, tau_sqrd):\n",
    "    eta = np.sqrt(eta_sqrd)\n",
    "    tau = np.sqrt(tau_sqrd)\n",
    "    kappa = 1j * np.sqrt(1. - tau_sqrd)\n",
    "    gamma = 1j * np.sqrt(1. - eta_sqrd)\n",
    "\n",
    "    T_b = generate_transfer(generate_S_b(theta_b, tau, kappa))\n",
    "    T_t = generate_transfer(generate_S_t(theta_t, tau, kappa))\n",
    "    T_I = generate_transfer(generate_S_I(eta, gamma))\n",
    "\n",
    "    # S_DB = T_b * T_I * T_t\n",
    "    A = np.dot(T_b, T_I)\n",
    "    S_DB = np.transpose(generate_scattering(np.dot(A, T_t)))\n",
    "\n",
    "    return S_DB\n",
    "\n",
    "\n",
    "#-------------------S_DB DEPENDS ON THESE----------------------------------------------------------------------\n",
    "# Adapted Matteo Code\n",
    "def generate_transfer(S):\n",
    "    a = S[0][0]\n",
    "    b = S[0][1]\n",
    "    c = S[1][0]\n",
    "    d = S[1][1]\n",
    "\n",
    "    det = np.linalg.det(S)\n",
    "\n",
    "    return np.array([[1. /c, -d/c], [a/c, -det/c]])\n",
    "\n",
    "# Adapted Matteo Code\n",
    "def generate_scattering(T):\n",
    "    a = T[0][0]\n",
    "    b = T[0][1]\n",
    "    c = T[1][0]\n",
    "    d = T[1][1]\n",
    "\n",
    "    det = np.linalg.det(T)\n",
    "\n",
    "    return np.array([[c / a, det / a], [1. / a, -b / a]])\n",
    "\n",
    "# Adapted Matteo Code\n",
    "def generate_S_b(theta, tau, kappa):\n",
    "    t_b = tau\n",
    "\n",
    "    s_b = -np.conjugate(kappa)*np.exp(-1j * theta/2.)\n",
    "\n",
    "    sPrime_b = kappa*np.exp(-1j * theta/2.)\n",
    "\n",
    "    tPrime_b = tau*np.exp(-1j * theta)\n",
    "\n",
    "    return np.array([[t_b, sPrime_b], [s_b, tPrime_b]])\n",
    "\n",
    "# Adapted Matteo Code\n",
    "def generate_S_t(theta, tau, kappa):\n",
    "    t_t = tau*np.exp(-1j * theta)\n",
    "\n",
    "    sPrime_t = -np.conjugate(kappa) * np.exp(-1j * theta/2.)\n",
    "\n",
    "    s_t = kappa*np.exp(-1j * theta/2.)\n",
    "\n",
    "    tPrime_t = tau\n",
    "\n",
    "    return np.array([[t_t, sPrime_t], [s_t, tPrime_t]])\n",
    "\n",
    "# Adapted Matteo Code\n",
    "def generate_S_I(eta, gamma):\n",
    "    t_I = eta\n",
    "    sPrime_I = gamma\n",
    "    s_I = gamma\n",
    "    tPrime_I = eta\n",
    "\n",
    "    return np.array([[t_I, sPrime_I], [s_I, tPrime_I]])\n",
    "\n",
    "\n",
    "#--------------------------------------------------------------------------------------------------------------------\n",
    "# Adapted Matteo Code\n",
    "def generate_S_AP(theta, tau):\n",
    "    kappa = 1j * np.sqrt(1.-tau**2)\n",
    "\n",
    "    a_c = np.conjugate(1. / (tau - (abs(kappa)**2) * np.exp(-1j * theta) / (1. - tau * np.exp(-1j * theta))))\n",
    "    \n",
    "    return np.array([[1., 0.], [0., a_c]])"
   ]
  },
  {
   "cell_type": "markdown",
   "metadata": {},
   "source": [
    "Combining the above into a function :"
   ]
  },
  {
   "cell_type": "code",
   "execution_count": 21,
   "metadata": {},
   "outputs": [],
   "source": [
    "def single_RISQ_CALC(theta_b, theta_t, theta_ap, eta_sqrd, tau_sqrd, tau_ap):\n",
    "    # Hardcoded detuning of second stacked rings at resonance\n",
    "    S_BS1 = generate_S_DB(theta_b, theta_t, eta_sqrd, tau_sqrd)\n",
    "    S_BS2 = generate_S_DB(np.pi/3, np.pi/3, eta_sqrd, tau_sqrd)\n",
    "    S_phase_phi = generate_S_AP(theta_ap, tau_ap)\n",
    "    S_phase_theta = generate_S_AP(0, tau_ap)\n",
    "\n",
    "    A = np.dot(S_BS2, S_phase_phi)\n",
    "    B = np.dot(A, S_BS1)\n",
    "\n",
    "    return np.dot(B, S_phase_theta)"
   ]
  },
  {
   "cell_type": "markdown",
   "metadata": {},
   "source": [
    "### Test\n",
    "\n",
    "Using inputs already present in script : "
   ]
  },
  {
   "cell_type": "code",
   "execution_count": 22,
   "metadata": {},
   "outputs": [],
   "source": [
    "dummyU = np.zeros((2,2,5000))\n",
    "\n",
    "tau_stacked = 1/2\n",
    "eta_stacked = 1/2\n",
    "theta_t = np.pi/3\n",
    "theta_b = np.pi/3\n",
    "tau_ap = 1/2\n",
    "theta_ap = np.linspace(-np.pi, np.pi, 5000)\n",
    "\n",
    "theta_single = 1.1\n",
    "theta_single = float(theta_single)\n",
    "\n",
    "N = len(dummyU[0][0][:])\n",
    "\n",
    "dummyU[0][0][:] = np.sin(theta_ap)\n",
    "dummyU[0][1][:] = np.cos(theta_ap)\n",
    "\n",
    "dashedLine = np.zeros(5000)\n",
    "dashedLine[:] = 0.5"
   ]
  },
  {
   "cell_type": "markdown",
   "metadata": {},
   "source": [
    "Does the function run?"
   ]
  },
  {
   "cell_type": "code",
   "execution_count": 23,
   "metadata": {},
   "outputs": [
    {
     "data": {
      "text/plain": [
       "array([[-0.61437422+0.09062195j,  0.77540346-0.11437422j],\n",
       "       [-0.77540346+0.11437422j, -0.61437422+0.09062195j]])"
      ]
     },
     "execution_count": 23,
     "metadata": {},
     "output_type": "execute_result"
    }
   ],
   "source": [
    "single_RISQ_CALC(theta_b, theta_t, 150, eta_stacked, tau_stacked, tau_ap)"
   ]
  },
  {
   "cell_type": "markdown",
   "metadata": {},
   "source": [
    "Let's loop over thetas and see it vs detuning. I put the loop outside the RISQ function (using single_risq)."
   ]
  },
  {
   "cell_type": "code",
   "execution_count": 24,
   "metadata": {},
   "outputs": [],
   "source": [
    "U_f = np.array([single_RISQ_CALC(theta_b, theta_t, th, eta_stacked, tau_stacked, tau_ap) for th in theta_ap])"
   ]
  },
  {
   "cell_type": "code",
   "execution_count": 25,
   "metadata": {},
   "outputs": [],
   "source": [
    "P_a_c = np.abs( ( U_f[:,0,0] )**2 )\n",
    "P_a_l = np.abs( ( U_f[:,1,0] )**2 )"
   ]
  },
  {
   "cell_type": "code",
   "execution_count": 26,
   "metadata": {},
   "outputs": [
    {
     "data": {
      "image/png": "[encoded data removed]",
      "text/plain": [
       "<Figure size 432x288 with 1 Axes>"
      ]
     },
     "metadata": {
      "needs_background": "light"
     },
     "output_type": "display_data"
    }
   ],
   "source": [
    "plt.plot(theta_ap, P_a_c, \"-b\", label=\"|\\u03B1|^2\")\n",
    "# plt.plot(theta_ap, approx(theta_ap), '-g')\n",
    "plt.plot(theta_ap, P_a_l, \"-g\", label=\"|\\u03B2|^2\")\n",
    "plt.plot(theta_ap, dashedLine, 'r--')\n",
    "plt.legend(loc=\"upper right\")\n",
    "plt.title(\"Output State Probabilities for a |0> Input State\")\n",
    "plt.xlabel(\"All-Pass Ring Resonator Detuning \\u03A6\")\n",
    "plt.ylabel(\"Probability of Photon Measurement\")\n",
    "\n",
    "# plt.figure(2)\n",
    "# plt.plot(theta_ap, phase_P_a_c, \"-y\")\n",
    "plt.show()"
   ]
  },
  {
   "cell_type": "code",
   "execution_count": 27,
   "metadata": {},
   "outputs": [],
   "source": [
    "U_f = np.array([single_RISQ_CALC(th, theta_t, 0, eta_stacked, tau_stacked, tau_ap) for th in theta_ap])\n",
    "P_a_c = np.abs( ( U_f[:,0,0] )**2 )\n",
    "P_a_l = np.abs( ( U_f[:,1,0] )**2 )"
   ]
  },
  {
   "cell_type": "code",
   "execution_count": 28,
   "metadata": {},
   "outputs": [
    {
     "data": {
      "image/png": "[encoded data removed]",
      "text/plain": [
       "<Figure size 432x288 with 1 Axes>"
      ]
     },
     "metadata": {
      "needs_background": "light"
     },
     "output_type": "display_data"
    }
   ],
   "source": [
    "plt.plot(theta_ap, P_a_c, \"-b\", label=\"|\\u03B1|^2\")\n",
    "# plt.plot(theta_ap, approx(theta_ap), '-g')\n",
    "plt.plot(theta_ap, P_a_l, \"-g\", label=\"|\\u03B2|^2\")\n",
    "plt.plot(theta_ap, dashedLine, 'r--')\n",
    "plt.legend(loc=\"upper right\")\n",
    "plt.title(\"Output State Probabilities for a |0> Input State\")\n",
    "plt.xlabel(r'Top resonator detuning, $\\theta_{ap} = 0$')\n",
    "plt.ylabel(\"Probability of Photon Measurement\")\n",
    "\n",
    "# plt.figure(2)\n",
    "# plt.plot(theta_ap, phase_P_a_c, \"-y\")\n",
    "plt.show()"
   ]
  },
  {
   "cell_type": "markdown",
   "metadata": {},
   "source": [
    "### Ask for derivative w.r.t. thetas\n",
    "\n",
    "Since we just want a function of thetas, let's wrap the function with all the arguments into one with just thetas : "
   ]
  },
  {
   "cell_type": "code",
   "execution_count": 12,
   "metadata": {},
   "outputs": [],
   "source": [
    "def test_grad(theta_b, theta_t, theta_single):\n",
    "    # These others ones will be fixed\n",
    "    tau_stacked = 1/2\n",
    "    eta_stacked = 1/2\n",
    "    tau_ap = 1/2\n",
    "    return single_RISQ_CALC(theta_b, theta_t, theta_single, eta_stacked, tau_stacked, tau_ap)"
   ]
  },
  {
   "cell_type": "markdown",
   "metadata": {},
   "source": [
    "Because the output is a matrix, a gradient is innapropriate (not scalar). We will use vector-Jacobian product for the reverse-mode derivative instead (since the number of inputs and outputs is relatively small, we could also do the full Jacobian). See https://www.cs.toronto.edu/~rgrosse/courses/csc321_2018/slides/lec10.pdf"
   ]
  },
  {
   "cell_type": "code",
   "execution_count": 13,
   "metadata": {},
   "outputs": [],
   "source": [
    "from autograd.test_util import check_vjp\n",
    "from autograd.core import make_vjp, make_jvp, vspace\n",
    "from autograd.wrap_util import unary_to_nary"
   ]
  },
  {
   "cell_type": "code",
   "execution_count": 14,
   "metadata": {},
   "outputs": [],
   "source": [
    "make_vjp_nary = unary_to_nary(make_vjp)\n",
    "vjp_output = make_vjp_nary(test_grad)(0., 0., 0.)"
   ]
  },
  {
   "cell_type": "code",
   "execution_count": 15,
   "metadata": {},
   "outputs": [
    {
     "data": {
      "text/plain": [
       "(<function autograd.core.make_vjp.<locals>.vjp(g)>,\n",
       " array([[-4.71844785e-16+3.33066907e-16j,  8.66025404e-01-5.00000000e-01j],\n",
       "        [ 8.66025404e-01-5.00000000e-01j,  2.22044605e-16+3.33066907e-16j]]))"
      ]
     },
     "execution_count": 15,
     "metadata": {},
     "output_type": "execute_result"
    }
   ],
   "source": [
    "vjp_output"
   ]
  },
  {
   "cell_type": "markdown",
   "metadata": {},
   "source": [
    "It runs and returns as expected :\n",
    "\n",
    "* The vjp function at [0], can be evaluated by adding the adjoints (g), where g has the shape of the outputs (here, 2x2 matrix). An adjoint is a derivative of the outputs w.r.t. to a scalar loss at the end of the computation.\n",
    "* The result of the forward evaluation at [1]. Here, it was evaluated for `(theta_b, theta_t, theta_single) = (0., 0., 0.)` as per `make_vjp_nary(test_grad)` call.\n",
    "\n",
    "OK, let's compare this \"analytical\" result to numerical differentiation with a small step \"epsilon\" :"
   ]
  },
  {
   "cell_type": "code",
   "execution_count": 16,
   "metadata": {},
   "outputs": [],
   "source": [
    "# Need to adapt autograd source code\n",
    "\n",
    "TOL  = 1e-6\n",
    "RTOL = 1e-6\n",
    "def scalar_close(a, b):\n",
    "    return abs(a - b) < TOL or  abs(a - b) / abs(a + b) < RTOL\n",
    "\n",
    "EPS  = 1E-6\n",
    "def make_numerical_jvp(f, x):\n",
    "    y = f(x)\n",
    "    x_vs, y_vs = vspace(x), vspace(y)\n",
    "    def jvp(v):\n",
    "        # (f(x + v*eps/2) - f(x - v*eps/2)) / eps\n",
    "        f_x_plus  = f(x_vs.add(x, x_vs.scalar_mul(v,  EPS/2)))\n",
    "        f_x_minus = f(x_vs.add(x, x_vs.scalar_mul(v, -EPS/2)))\n",
    "        neg_f_x_minus = y_vs.scalar_mul(f_x_minus, -1.0)\n",
    "        return y_vs.scalar_mul(y_vs.add(f_x_plus, neg_f_x_minus), 1.0 / EPS)\n",
    "    return jvp\n",
    "\n",
    "@unary_to_nary\n",
    "def check_vjp(f, x):\n",
    "    vjp, y = make_vjp(f, x)\n",
    "    jvp = make_numerical_jvp(f, x)\n",
    "    x_vs, y_vs = vspace(x), vspace(y)\n",
    "    x_v, y_v = x_vs.randn(), y_vs.randn()\n",
    "    \n",
    "    # Change from base code : our vjp is a list due to multiple inputs. We are only interested in Vbar, the first element :\n",
    "    vjp_y = x_vs.covector(vjp(y_vs.covector(y_v)))\n",
    "    assert vspace(vjp_y) == x_vs\n",
    "    vjv_exact   = x_vs.inner_prod(x_v, vjp_y)\n",
    "    vjv_numeric = y_vs.inner_prod(y_v, jvp(x_v))\n",
    "    print('vjv_exact = ', vjv_exact, '\\\\ vjv_numeric = ', vjv_numeric)\n",
    "    assert scalar_close(vjv_numeric, vjv_exact), \\\n",
    "        (\"Derivative (VJP) check of {} failed with arg {}:\\n\"\n",
    "         \"analytic: {}\\nnumeric:  {}\".format(\n",
    "            get_name(f), x, vjv_exact, vjv_numeric))"
   ]
  },
  {
   "cell_type": "code",
   "execution_count": 17,
   "metadata": {},
   "outputs": [
    {
     "name": "stdout",
     "output_type": "stream",
     "text": [
      "vjv_exact =  0.4522614687819485 \\ vjv_numeric =  0.45226146893419217\n"
     ]
    }
   ],
   "source": [
    "check_vjp(test_grad, 0)(0., 0., 0.)"
   ]
  },
  {
   "cell_type": "markdown",
   "metadata": {},
   "source": [
    "Here, $x$ is the argument we are differentiating against (`theta_b, theta_t, theta_single`) = `(0, 1, 2)`.\n",
    "\n",
    "It did not raise an error, and so for this set of inputs at least the derivatives are correct (for the 0'th input `theta_b`, $\\epsilon = 10^{-6}$, and for absolute tolerance $10^{-6}$ and relative tolerance $10^{-6}$).\n",
    "\n",
    "Let's try at other input values : "
   ]
  },
  {
   "cell_type": "code",
   "execution_count": 18,
   "metadata": {},
   "outputs": [
    {
     "name": "stdout",
     "output_type": "stream",
     "text": [
      "vjv_exact =  -1.053899984923666 \\ vjv_numeric =  -1.0538999845965673\n"
     ]
    }
   ],
   "source": [
    "check_vjp(test_grad, 1)(np.pi/2, 0., 0.)"
   ]
  },
  {
   "cell_type": "code",
   "execution_count": 19,
   "metadata": {},
   "outputs": [
    {
     "name": "stdout",
     "output_type": "stream",
     "text": [
      "vjv_exact =  0.1046384244201914 \\ vjv_numeric =  0.10463842441340437\n"
     ]
    }
   ],
   "source": [
    "check_vjp(test_grad, 2)(np.pi/2, 0., np.pi)"
   ]
  },
  {
   "cell_type": "code",
   "execution_count": 20,
   "metadata": {},
   "outputs": [
    {
     "name": "stdout",
     "output_type": "stream",
     "text": [
      "vjv_exact =  -5.967120953847232 \\ vjv_numeric =  -5.967120954057684\n"
     ]
    }
   ],
   "source": [
    "check_vjp(test_grad, 0)(0.01, np.pi/3, 1.)"
   ]
  },
  {
   "cell_type": "markdown",
   "metadata": {},
   "source": [
    "Should be OK?"
   ]
  },
  {
   "cell_type": "code",
   "execution_count": null,
   "metadata": {},
   "outputs": [],
   "source": []
  },
  {
   "cell_type": "code",
   "execution_count": null,
   "metadata": {},
   "outputs": [],
   "source": []
  },
  {
   "cell_type": "code",
   "execution_count": null,
   "metadata": {},
   "outputs": [],
   "source": []
  },
  {
   "cell_type": "code",
   "execution_count": null,
   "metadata": {},
   "outputs": [],
   "source": []
  },
  {
   "cell_type": "code",
   "execution_count": null,
   "metadata": {},
   "outputs": [],
   "source": []
  }
 ],
 "metadata": {
  "kernelspec": {
   "display_name": "Python 3",
   "language": "python",
   "name": "python3"
  },
  "language_info": {
   "codemirror_mode": {
    "name": "ipython",
    "version": 3
   },
   "file_extension": ".py",
   "mimetype": "text/x-python",
   "name": "python",
   "nbconvert_exporter": "python",
   "pygments_lexer": "ipython3",
   "version": "3.6.12"
  }
 },
 "nbformat": 4,
 "nbformat_minor": 4
}
